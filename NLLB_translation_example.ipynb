{
 "cells": [
  {
   "cell_type": "code",
   "execution_count": 1,
   "id": "37519a0d",
   "metadata": {},
   "outputs": [
    {
     "data": {
      "text/html": [
       "<style>.container { width:100% !important; }</style>"
      ],
      "text/plain": [
       "<IPython.core.display.HTML object>"
      ]
     },
     "metadata": {},
     "output_type": "display_data"
    }
   ],
   "source": [
    "from transformers import AutoTokenizer, AutoModelForSeq2SeqLM, pipeline \n",
    "\n",
    "# in case of errors try installing transformers from repo via console:\n",
    "\n",
    "# python3 -m pip install git+https://github.com/huggingface/transformers.git\n",
    "\n",
    "# or via jupyter:\n",
    "\n",
    "# !pip install git+https://github.com/huggingface/transformers.git\n",
    "\n",
    "from flores200_codes import flores_codes\n",
    "\n",
    "from IPython.display import display, HTML\n",
    "display(HTML(\"<style>.container { width:100% !important; }</style>\"))"
   ]
  },
  {
   "cell_type": "markdown",
   "id": "2c3ce68c",
   "metadata": {},
   "source": [
    "# Choose model by parameter size"
   ]
  },
  {
   "cell_type": "code",
   "execution_count": 2,
   "id": "ac148285",
   "metadata": {},
   "outputs": [],
   "source": [
    "#model_name = 'facebook/nllb-200-distilled-600M'\n",
    "#model_name = 'facebook/nllb-200-1.3B'\n",
    "#model_name = 'facebook/nllb-200-distilled-1.3B'\n",
    "model_name = 'facebook/nllb-200-3.3B'  # 16.5 GB on disk and peak 24 GB in RAM"
   ]
  },
  {
   "cell_type": "markdown",
   "id": "162182a6",
   "metadata": {},
   "source": [
    "# Download model"
   ]
  },
  {
   "cell_type": "code",
   "execution_count": 4,
   "id": "8ff22b10",
   "metadata": {},
   "outputs": [
    {
     "data": {
      "application/vnd.jupyter.widget-view+json": {
       "model_id": "0d3748de6cdf49a7bc5671890cd3e5ec",
       "version_major": 2,
       "version_minor": 0
      },
      "text/plain": [
       "HBox(children=(FloatProgress(value=0.0, description='Downloading config.json', max=808.0, style=ProgressStyle(…"
      ]
     },
     "metadata": {},
     "output_type": "display_data"
    },
    {
     "name": "stdout",
     "output_type": "stream",
     "text": [
      "\n"
     ]
    },
    {
     "data": {
      "application/vnd.jupyter.widget-view+json": {
       "model_id": "81d83b24871042d1b107a5219d7ddcde",
       "version_major": 2,
       "version_minor": 0
      },
      "text/plain": [
       "HBox(children=(FloatProgress(value=0.0, description='Downloading pytorch_model.bin.index.json', max=90035.0, s…"
      ]
     },
     "metadata": {},
     "output_type": "display_data"
    },
    {
     "name": "stdout",
     "output_type": "stream",
     "text": [
      "\n"
     ]
    },
    {
     "data": {
      "application/vnd.jupyter.widget-view+json": {
       "model_id": "13b3a249bd254c798f524b6204aa2006",
       "version_major": 2,
       "version_minor": 0
      },
      "text/plain": [
       "HBox(children=(FloatProgress(value=0.0, description='Downloading pytorch_model-00001-of-00003.bin', max=693337…"
      ]
     },
     "metadata": {},
     "output_type": "display_data"
    },
    {
     "name": "stdout",
     "output_type": "stream",
     "text": [
      "\n"
     ]
    },
    {
     "data": {
      "application/vnd.jupyter.widget-view+json": {
       "model_id": "1ec54d239d0d434bb5c7b2aabc0ddefd",
       "version_major": 2,
       "version_minor": 0
      },
      "text/plain": [
       "HBox(children=(FloatProgress(value=0.0, description='Downloading pytorch_model-00002-of-00003.bin', max=854524…"
      ]
     },
     "metadata": {},
     "output_type": "display_data"
    },
    {
     "name": "stdout",
     "output_type": "stream",
     "text": [
      "\n"
     ]
    },
    {
     "data": {
      "application/vnd.jupyter.widget-view+json": {
       "model_id": "3db1434eccdc4e7ca1c45f964b287cfc",
       "version_major": 2,
       "version_minor": 0
      },
      "text/plain": [
       "HBox(children=(FloatProgress(value=0.0, description='Downloading pytorch_model-00003-of-00003.bin', max=209884…"
      ]
     },
     "metadata": {},
     "output_type": "display_data"
    },
    {
     "name": "stdout",
     "output_type": "stream",
     "text": [
      "\n"
     ]
    },
    {
     "data": {
      "application/vnd.jupyter.widget-view+json": {
       "model_id": "3a580e01c6c84d8795ca747688d09cc3",
       "version_major": 2,
       "version_minor": 0
      },
      "text/plain": [
       "HBox(children=(FloatProgress(value=0.0, description='Downloading tokenizer_config.json', max=564.0, style=Prog…"
      ]
     },
     "metadata": {},
     "output_type": "display_data"
    },
    {
     "name": "stdout",
     "output_type": "stream",
     "text": [
      "\n"
     ]
    },
    {
     "data": {
      "application/vnd.jupyter.widget-view+json": {
       "model_id": "5b204c41512245218d896ee8859beab2",
       "version_major": 2,
       "version_minor": 0
      },
      "text/plain": [
       "HBox(children=(FloatProgress(value=0.0, description='Downloading sentencepiece.bpe.model', max=4852054.0, styl…"
      ]
     },
     "metadata": {},
     "output_type": "display_data"
    },
    {
     "name": "stdout",
     "output_type": "stream",
     "text": [
      "\n"
     ]
    },
    {
     "data": {
      "application/vnd.jupyter.widget-view+json": {
       "model_id": "807d25a6e9da49dcb586239eebf4f151",
       "version_major": 2,
       "version_minor": 0
      },
      "text/plain": [
       "HBox(children=(FloatProgress(value=0.0, description='Downloading tokenizer.json', max=17331176.0, style=Progre…"
      ]
     },
     "metadata": {},
     "output_type": "display_data"
    },
    {
     "name": "stdout",
     "output_type": "stream",
     "text": [
      "\n"
     ]
    },
    {
     "data": {
      "application/vnd.jupyter.widget-view+json": {
       "model_id": "e188c7ddb30143658d4edcf6b0ab797b",
       "version_major": 2,
       "version_minor": 0
      },
      "text/plain": [
       "HBox(children=(FloatProgress(value=0.0, description='Downloading special_tokens_map.json', max=3548.0, style=P…"
      ]
     },
     "metadata": {},
     "output_type": "display_data"
    },
    {
     "name": "stdout",
     "output_type": "stream",
     "text": [
      "\n"
     ]
    }
   ],
   "source": [
    "model = AutoModelForSeq2SeqLM.from_pretrained(model_name)\n",
    "tokenizer = AutoTokenizer.from_pretrained(model_name)"
   ]
  },
  {
   "cell_type": "code",
   "execution_count": 8,
   "id": "139c3a2c",
   "metadata": {},
   "outputs": [],
   "source": [
    "def translation(model, tokenizer, source, target, text):\n",
    "    source = flores_codes[source]\n",
    "    target = flores_codes[target]\n",
    "\n",
    "    translator = pipeline('translation', model=model, tokenizer=tokenizer, src_lang=source, tgt_lang=target)\n",
    "    output = translator(text, max_length=400)\n",
    "    return output"
   ]
  },
  {
   "cell_type": "code",
   "execution_count": 9,
   "id": "fc5e4114",
   "metadata": {},
   "outputs": [],
   "source": [
    "source = 'Lithuanian'\n",
    "target = 'English'\n",
    "text = 'Vilnius įsikūręs pačioje Baltijos aukštumų kalvyno juostoje, giliai išraižytoje vingiuoto Neries slėnio'\n",
    "\n",
    "result = translation(model, tokenizer, source, target, text)"
   ]
  },
  {
   "cell_type": "code",
   "execution_count": 10,
   "id": "12997052",
   "metadata": {},
   "outputs": [
    {
     "data": {
      "text/plain": [
       "[{'translation_text': 'Vilnius is situated in the heart of the Baltic mountain range, deeply embedded in the winding Neries valley.'}]"
      ]
     },
     "execution_count": 10,
     "metadata": {},
     "output_type": "execute_result"
    }
   ],
   "source": [
    "result"
   ]
  },
  {
   "cell_type": "markdown",
   "id": "83b76005",
   "metadata": {},
   "source": [
    "# Google translate:"
   ]
  },
  {
   "cell_type": "markdown",
   "id": "3a533c2f",
   "metadata": {},
   "source": [
    "Vilnius is located in the very hilly belt of the Baltic highlands, deeply carved by the winding Neris valley"
   ]
  },
  {
   "cell_type": "markdown",
   "id": "cba9dd35",
   "metadata": {},
   "source": [
    "# Languages labelling:"
   ]
  },
  {
   "cell_type": "code",
   "execution_count": 11,
   "id": "0f249c7d",
   "metadata": {},
   "outputs": [
    {
     "data": {
      "text/plain": [
       "{'Acehnese (Arabic script)': 'ace_Arab',\n",
       " 'Acehnese (Latin script)': 'ace_Latn',\n",
       " 'Mesopotamian Arabic': 'acm_Arab',\n",
       " 'Ta’izzi-Adeni Arabic': 'acq_Arab',\n",
       " 'Tunisian Arabic': 'aeb_Arab',\n",
       " 'Afrikaans': 'afr_Latn',\n",
       " 'South Levantine Arabic': 'ajp_Arab',\n",
       " 'Akan': 'aka_Latn',\n",
       " 'Amharic': 'amh_Ethi',\n",
       " 'North Levantine Arabic': 'apc_Arab',\n",
       " 'Modern Standard Arabic': 'arb_Arab',\n",
       " 'Modern Standard Arabic (Romanized)': 'arb_Latn',\n",
       " 'Najdi Arabic': 'ars_Arab',\n",
       " 'Moroccan Arabic': 'ary_Arab',\n",
       " 'Egyptian Arabic': 'arz_Arab',\n",
       " 'Assamese': 'asm_Beng',\n",
       " 'Asturian': 'ast_Latn',\n",
       " 'Awadhi': 'awa_Deva',\n",
       " 'Central Aymara': 'ayr_Latn',\n",
       " 'South Azerbaijani': 'azb_Arab',\n",
       " 'North Azerbaijani': 'azj_Latn',\n",
       " 'Bashkir': 'bak_Cyrl',\n",
       " 'Bambara': 'bam_Latn',\n",
       " 'Balinese': 'ban_Latn',\n",
       " 'Belarusian': 'bel_Cyrl',\n",
       " 'Bemba': 'bem_Latn',\n",
       " 'Bengali': 'ben_Beng',\n",
       " 'Bhojpuri': 'bho_Deva',\n",
       " 'Banjar (Arabic script)': 'bjn_Arab',\n",
       " 'Banjar (Latin script)': 'bjn_Latn',\n",
       " 'Standard Tibetan': 'bod_Tibt',\n",
       " 'Bosnian': 'bos_Latn',\n",
       " 'Buginese': 'bug_Latn',\n",
       " 'Bulgarian': 'bul_Cyrl',\n",
       " 'Catalan': 'cat_Latn',\n",
       " 'Cebuano': 'ceb_Latn',\n",
       " 'Czech': 'ces_Latn',\n",
       " 'Chokwe': 'cjk_Latn',\n",
       " 'Central Kurdish': 'ckb_Arab',\n",
       " 'Crimean Tatar': 'crh_Latn',\n",
       " 'Welsh': 'cym_Latn',\n",
       " 'Danish': 'dan_Latn',\n",
       " 'German': 'deu_Latn',\n",
       " 'Southwestern Dinka': 'dik_Latn',\n",
       " 'Dyula': 'dyu_Latn',\n",
       " 'Dzongkha': 'dzo_Tibt',\n",
       " 'Greek': 'ell_Grek',\n",
       " 'English': 'eng_Latn',\n",
       " 'Esperanto': 'epo_Latn',\n",
       " 'Estonian': 'est_Latn',\n",
       " 'Basque': 'eus_Latn',\n",
       " 'Ewe': 'ewe_Latn',\n",
       " 'Faroese': 'fao_Latn',\n",
       " 'Fijian': 'fij_Latn',\n",
       " 'Finnish': 'fin_Latn',\n",
       " 'Fon': 'fon_Latn',\n",
       " 'French': 'fra_Latn',\n",
       " 'Friulian': 'fur_Latn',\n",
       " 'Nigerian Fulfulde': 'fuv_Latn',\n",
       " 'Scottish Gaelic': 'gla_Latn',\n",
       " 'Irish': 'gle_Latn',\n",
       " 'Galician': 'glg_Latn',\n",
       " 'Guarani': 'grn_Latn',\n",
       " 'Gujarati': 'guj_Gujr',\n",
       " 'Haitian Creole': 'hat_Latn',\n",
       " 'Hausa': 'hau_Latn',\n",
       " 'Hebrew': 'heb_Hebr',\n",
       " 'Hindi': 'hin_Deva',\n",
       " 'Chhattisgarhi': 'hne_Deva',\n",
       " 'Croatian': 'hrv_Latn',\n",
       " 'Hungarian': 'hun_Latn',\n",
       " 'Armenian': 'hye_Armn',\n",
       " 'Igbo': 'ibo_Latn',\n",
       " 'Ilocano': 'ilo_Latn',\n",
       " 'Indonesian': 'ind_Latn',\n",
       " 'Icelandic': 'isl_Latn',\n",
       " 'Italian': 'ita_Latn',\n",
       " 'Javanese': 'jav_Latn',\n",
       " 'Japanese': 'jpn_Jpan',\n",
       " 'Kabyle': 'kab_Latn',\n",
       " 'Jingpho': 'kac_Latn',\n",
       " 'Kamba': 'kam_Latn',\n",
       " 'Kannada': 'kan_Knda',\n",
       " 'Kashmiri (Arabic script)': 'kas_Arab',\n",
       " 'Kashmiri (Devanagari script)': 'kas_Deva',\n",
       " 'Georgian': 'kat_Geor',\n",
       " 'Central Kanuri (Arabic script)': 'knc_Arab',\n",
       " 'Central Kanuri (Latin script)': 'knc_Latn',\n",
       " 'Kazakh': 'kaz_Cyrl',\n",
       " 'Kabiyè': 'kbp_Latn',\n",
       " 'Kabuverdianu': 'kea_Latn',\n",
       " 'Khmer': 'khm_Khmr',\n",
       " 'Kikuyu': 'kik_Latn',\n",
       " 'Kinyarwanda': 'kin_Latn',\n",
       " 'Kyrgyz': 'kir_Cyrl',\n",
       " 'Kimbundu': 'kmb_Latn',\n",
       " 'Northern Kurdish': 'kmr_Latn',\n",
       " 'Kikongo': 'kon_Latn',\n",
       " 'Korean': 'kor_Hang',\n",
       " 'Lao': 'lao_Laoo',\n",
       " 'Ligurian': 'lij_Latn',\n",
       " 'Limburgish': 'lim_Latn',\n",
       " 'Lingala': 'lin_Latn',\n",
       " 'Lithuanian': 'lit_Latn',\n",
       " 'Lombard': 'lmo_Latn',\n",
       " 'Latgalian': 'ltg_Latn',\n",
       " 'Luxembourgish': 'ltz_Latn',\n",
       " 'Luba-Kasai': 'lua_Latn',\n",
       " 'Ganda': 'lug_Latn',\n",
       " 'Luo': 'luo_Latn',\n",
       " 'Mizo': 'lus_Latn',\n",
       " 'Standard Latvian': 'lvs_Latn',\n",
       " 'Magahi': 'mag_Deva',\n",
       " 'Maithili': 'mai_Deva',\n",
       " 'Malayalam': 'mal_Mlym',\n",
       " 'Marathi': 'mar_Deva',\n",
       " 'Minangkabau (Arabic script)': 'min_Arab',\n",
       " 'Minangkabau (Latin script)': 'min_Latn',\n",
       " 'Macedonian': 'mkd_Cyrl',\n",
       " 'Plateau Malagasy': 'plt_Latn',\n",
       " 'Maltese': 'mlt_Latn',\n",
       " 'Meitei (Bengali script)': 'mni_Beng',\n",
       " 'Halh Mongolian': 'khk_Cyrl',\n",
       " 'Mossi': 'mos_Latn',\n",
       " 'Maori': 'mri_Latn',\n",
       " 'Burmese': 'mya_Mymr',\n",
       " 'Dutch': 'nld_Latn',\n",
       " 'Norwegian Nynorsk': 'nno_Latn',\n",
       " 'Norwegian Bokmål': 'nob_Latn',\n",
       " 'Nepali': 'npi_Deva',\n",
       " 'Northern Sotho': 'nso_Latn',\n",
       " 'Nuer': 'nus_Latn',\n",
       " 'Nyanja': 'nya_Latn',\n",
       " 'Occitan': 'oci_Latn',\n",
       " 'West Central Oromo': 'gaz_Latn',\n",
       " 'Odia': 'ory_Orya',\n",
       " 'Pangasinan': 'pag_Latn',\n",
       " 'Eastern Panjabi': 'pan_Guru',\n",
       " 'Papiamento': 'pap_Latn',\n",
       " 'Western Persian': 'pes_Arab',\n",
       " 'Polish': 'pol_Latn',\n",
       " 'Portuguese': 'por_Latn',\n",
       " 'Dari': 'prs_Arab',\n",
       " 'Southern Pashto': 'pbt_Arab',\n",
       " 'Ayacucho Quechua': 'quy_Latn',\n",
       " 'Romanian': 'ron_Latn',\n",
       " 'Rundi': 'run_Latn',\n",
       " 'Russian': 'rus_Cyrl',\n",
       " 'Sango': 'sag_Latn',\n",
       " 'Sanskrit': 'san_Deva',\n",
       " 'Santali': 'sat_Olck',\n",
       " 'Sicilian': 'scn_Latn',\n",
       " 'Shan': 'shn_Mymr',\n",
       " 'Sinhala': 'sin_Sinh',\n",
       " 'Slovak': 'slk_Latn',\n",
       " 'Slovenian': 'slv_Latn',\n",
       " 'Samoan': 'smo_Latn',\n",
       " 'Shona': 'sna_Latn',\n",
       " 'Sindhi': 'snd_Arab',\n",
       " 'Somali': 'som_Latn',\n",
       " 'Southern Sotho': 'sot_Latn',\n",
       " 'Spanish': 'spa_Latn',\n",
       " 'Tosk Albanian': 'als_Latn',\n",
       " 'Sardinian': 'srd_Latn',\n",
       " 'Serbian': 'srp_Cyrl',\n",
       " 'Swati': 'ssw_Latn',\n",
       " 'Sundanese': 'sun_Latn',\n",
       " 'Swedish': 'swe_Latn',\n",
       " 'Swahili': 'swh_Latn',\n",
       " 'Silesian': 'szl_Latn',\n",
       " 'Tamil': 'tam_Taml',\n",
       " 'Tatar': 'tat_Cyrl',\n",
       " 'Telugu': 'tel_Telu',\n",
       " 'Tajik': 'tgk_Cyrl',\n",
       " 'Tagalog': 'tgl_Latn',\n",
       " 'Thai': 'tha_Thai',\n",
       " 'Tigrinya': 'tir_Ethi',\n",
       " 'Tamasheq (Latin script)': 'taq_Latn',\n",
       " 'Tamasheq (Tifinagh script)': 'taq_Tfng',\n",
       " 'Tok Pisin': 'tpi_Latn',\n",
       " 'Tswana': 'tsn_Latn',\n",
       " 'Tsonga': 'tso_Latn',\n",
       " 'Turkmen': 'tuk_Latn',\n",
       " 'Tumbuka': 'tum_Latn',\n",
       " 'Turkish': 'tur_Latn',\n",
       " 'Twi': 'twi_Latn',\n",
       " 'Central Atlas Tamazight': 'tzm_Tfng',\n",
       " 'Uyghur': 'uig_Arab',\n",
       " 'Ukrainian': 'ukr_Cyrl',\n",
       " 'Umbundu': 'umb_Latn',\n",
       " 'Urdu': 'urd_Arab',\n",
       " 'Northern Uzbek': 'uzn_Latn',\n",
       " 'Venetian': 'vec_Latn',\n",
       " 'Vietnamese': 'vie_Latn',\n",
       " 'Waray': 'war_Latn',\n",
       " 'Wolof': 'wol_Latn',\n",
       " 'Xhosa': 'xho_Latn',\n",
       " 'Eastern Yiddish': 'ydd_Hebr',\n",
       " 'Yoruba': 'yor_Latn',\n",
       " 'Yue Chinese': 'yue_Hant',\n",
       " 'Chinese (Simplified)': 'zho_Hans',\n",
       " 'Chinese (Traditional)': 'zho_Hant',\n",
       " 'Standard Malay': 'zsm_Latn',\n",
       " 'Zulu': 'zul_Latn'}"
      ]
     },
     "execution_count": 11,
     "metadata": {},
     "output_type": "execute_result"
    }
   ],
   "source": [
    "flores_codes"
   ]
  },
  {
   "cell_type": "code",
   "execution_count": null,
   "id": "3a9f8fc6",
   "metadata": {},
   "outputs": [],
   "source": []
  }
 ],
 "metadata": {
  "kernelspec": {
   "display_name": "Python 3 (ipykernel)",
   "language": "python",
   "name": "python3"
  },
  "language_info": {
   "codemirror_mode": {
    "name": "ipython",
    "version": 3
   },
   "file_extension": ".py",
   "mimetype": "text/x-python",
   "name": "python",
   "nbconvert_exporter": "python",
   "pygments_lexer": "ipython3",
   "version": "3.8.10"
  }
 },
 "nbformat": 4,
 "nbformat_minor": 5
}
